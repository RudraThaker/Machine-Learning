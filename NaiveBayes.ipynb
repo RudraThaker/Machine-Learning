{
 "cells": [
  {
   "cell_type": "code",
   "execution_count": 4,
   "metadata": {},
   "outputs": [],
   "source": [
    "import numpy as np\n",
    "from sklearn.model_selection import train_test_split\n",
    "from sklearn.datasets import make_blobs\n",
    "from scipy.stats import norm"
   ]
  },
  {
   "cell_type": "code",
   "execution_count": 7,
   "metadata": {},
   "outputs": [
    {
     "name": "stdout",
     "output_type": "stream",
     "text": [
      "(10000, 2) (10000,)\n",
      "[[-3.08389358  5.70067218]\n",
      " [-8.80258525 -5.07389013]\n",
      " [-1.68452735  5.22511143]\n",
      " [-1.44683075  4.51471432]\n",
      " [-3.36067232  3.22371079]]\n",
      "[0 1 0 0 0]\n"
     ]
    }
   ],
   "source": [
    "X, y = make_blobs(n_samples=10000, centers=2, n_features = 2, random_state=1)\n",
    "\n",
    "print(X.shape, y.shape)\n",
    "print(X[:5])\n",
    "print(y[:5])"
   ]
  },
  {
   "cell_type": "code",
   "execution_count": 17,
   "metadata": {},
   "outputs": [],
   "source": [
    "class NaiveBayes:\n",
    "    def __init__(self, X,y):\n",
    "        self.X = X\n",
    "        self.y = y\n",
    "    \n",
    "    def splitToTrainTest(self):\n",
    "        X_train, X_test, y_train, y_test = train_test_split(self.X, self.y, test_size = 0.1, random_state=0)\n",
    "        \n",
    "        return X_train, X_test, y_train, y_test\n",
    "    \n",
    "    def fit_distribution(self, X):\n",
    "        mu = np.mean(X)\n",
    "        std = np.std(X)\n",
    "        \n",
    "        dist = norm(mu, std)\n",
    "        \n",
    "        return dist\n",
    "    \n",
    "    def posterior(self, x, prior, dist1, dist2):\n",
    "        \n",
    "        return prior * dist1.pdf(x[0]) *dist2.pdf(x[1])\n",
    "    \n",
    "    def run_model(self):\n",
    "        \n",
    "        self.Xtrain, self.X_test, self.y_train, self.y_test = self.splitToTrainTest()\n",
    "        \n",
    "        self.X0_train = self.X_train[self.y_train == 0]\n",
    "        self.X1_train = self.X_train[self.y_train == 1]\n",
    "        \n",
    "        #Calculate the prior\n",
    "        \n",
    "        self.prior_y0 = len(self.X0_train)/len(self.X_train)\n",
    "        self.prior_y1 = len(self.X1_train)/len(self.X_train)\n",
    "        \n",
    "        #claculate the liklihoods for y==0\n",
    "        \n",
    "        self.dist_X0y0 = self.fit_distribution(self.X0_train[:,0])\n",
    "        self.dist_X1y0 = self.fit_distribution(self.X0_train[:,1])\n",
    "        \n",
    "        #claculate the liklihoods for y==1\n",
    "        \n",
    "        self.dist_X0y1 = self.fit_distribution(self.X1_train[:,0])\n",
    "        self.dist_X1y1 = self.fit_distribution(self.X1_train[:,1])\n",
    "        \n",
    "    def predict(self):\n",
    "        \n",
    "        for sample, target in zip(self.X_test, self.y_test):\n",
    "            py0 = self.posterior(sample, self.prior_y0, self.dist_X0y0, self.dist_X1y0)\n",
    "            py1 = self.posterior(sample, self.prior_y1, self.dist_X0y1, self.dist_X1y1)\n",
    "            \n",
    "            print('P(Y=0 | %s) = %.3f' % (sample, py0 *100))\n",
    "            print('P(Y=1 | %s) = %.3f' % (sample, py1 *100))\n",
    "            print('Model predicted class {} and the true class is {}' .format(np.argmax[py0*100, py1 *100]), sample)\n",
    "            \n",
    "    \n",
    "    \n",
    "    \n",
    "    \n",
    "    "
   ]
  },
  {
   "cell_type": "code",
   "execution_count": 19,
   "metadata": {},
   "outputs": [
    {
     "ename": "AttributeError",
     "evalue": "'NaiveBayes' object has no attribute 'X_train'",
     "output_type": "error",
     "traceback": [
      "\u001b[0;31m---------------------------------------------------------------------------\u001b[0m",
      "\u001b[0;31mAttributeError\u001b[0m                            Traceback (most recent call last)",
      "\u001b[0;32m<ipython-input-19-91168f42b84f>\u001b[0m in \u001b[0;36m<module>\u001b[0;34m\u001b[0m\n\u001b[1;32m      2\u001b[0m \u001b[0;34m\u001b[0m\u001b[0m\n\u001b[1;32m      3\u001b[0m \u001b[0;34m\u001b[0m\u001b[0m\n\u001b[0;32m----> 4\u001b[0;31m \u001b[0mclassifier\u001b[0m\u001b[0;34m.\u001b[0m\u001b[0mrun_model\u001b[0m\u001b[0;34m(\u001b[0m\u001b[0;34m)\u001b[0m\u001b[0;34m\u001b[0m\u001b[0;34m\u001b[0m\u001b[0m\n\u001b[0m",
      "\u001b[0;32m<ipython-input-17-7f77b04594ae>\u001b[0m in \u001b[0;36mrun_model\u001b[0;34m(self)\u001b[0m\n\u001b[1;32m     25\u001b[0m         \u001b[0mself\u001b[0m\u001b[0;34m.\u001b[0m\u001b[0mXtrain\u001b[0m\u001b[0;34m,\u001b[0m \u001b[0mself\u001b[0m\u001b[0;34m.\u001b[0m\u001b[0mX_test\u001b[0m\u001b[0;34m,\u001b[0m \u001b[0mself\u001b[0m\u001b[0;34m.\u001b[0m\u001b[0my_train\u001b[0m\u001b[0;34m,\u001b[0m \u001b[0mself\u001b[0m\u001b[0;34m.\u001b[0m\u001b[0my_test\u001b[0m \u001b[0;34m=\u001b[0m \u001b[0mself\u001b[0m\u001b[0;34m.\u001b[0m\u001b[0msplitToTrainTest\u001b[0m\u001b[0;34m(\u001b[0m\u001b[0;34m)\u001b[0m\u001b[0;34m\u001b[0m\u001b[0;34m\u001b[0m\u001b[0m\n\u001b[1;32m     26\u001b[0m \u001b[0;34m\u001b[0m\u001b[0m\n\u001b[0;32m---> 27\u001b[0;31m         \u001b[0mself\u001b[0m\u001b[0;34m.\u001b[0m\u001b[0mX0_train\u001b[0m \u001b[0;34m=\u001b[0m \u001b[0mself\u001b[0m\u001b[0;34m.\u001b[0m\u001b[0mX_train\u001b[0m\u001b[0;34m[\u001b[0m\u001b[0mself\u001b[0m\u001b[0;34m.\u001b[0m\u001b[0my_train\u001b[0m \u001b[0;34m==\u001b[0m \u001b[0;36m0\u001b[0m\u001b[0;34m]\u001b[0m\u001b[0;34m\u001b[0m\u001b[0;34m\u001b[0m\u001b[0m\n\u001b[0m\u001b[1;32m     28\u001b[0m         \u001b[0mself\u001b[0m\u001b[0;34m.\u001b[0m\u001b[0mX1_train\u001b[0m \u001b[0;34m=\u001b[0m \u001b[0mself\u001b[0m\u001b[0;34m.\u001b[0m\u001b[0mX_train\u001b[0m\u001b[0;34m[\u001b[0m\u001b[0mself\u001b[0m\u001b[0;34m.\u001b[0m\u001b[0my_train\u001b[0m \u001b[0;34m==\u001b[0m \u001b[0;36m1\u001b[0m\u001b[0;34m]\u001b[0m\u001b[0;34m\u001b[0m\u001b[0;34m\u001b[0m\u001b[0m\n\u001b[1;32m     29\u001b[0m \u001b[0;34m\u001b[0m\u001b[0m\n",
      "\u001b[0;31mAttributeError\u001b[0m: 'NaiveBayes' object has no attribute 'X_train'"
     ]
    }
   ],
   "source": [
    "classifier = NaiveBayes(X, y)\n",
    "\n",
    "\n",
    "classifier.run_model()"
   ]
  },
  {
   "cell_type": "code",
   "execution_count": null,
   "metadata": {},
   "outputs": [],
   "source": []
  },
  {
   "cell_type": "code",
   "execution_count": null,
   "metadata": {},
   "outputs": [],
   "source": []
  }
 ],
 "metadata": {
  "kernelspec": {
   "display_name": "Python 3",
   "language": "python",
   "name": "python3"
  },
  "language_info": {
   "codemirror_mode": {
    "name": "ipython",
    "version": 3
   },
   "file_extension": ".py",
   "mimetype": "text/x-python",
   "name": "python",
   "nbconvert_exporter": "python",
   "pygments_lexer": "ipython3",
   "version": "3.8.5"
  }
 },
 "nbformat": 4,
 "nbformat_minor": 4
}
